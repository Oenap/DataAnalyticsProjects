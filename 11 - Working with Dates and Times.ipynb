{
 "cells": [
  {
   "cell_type": "markdown",
   "metadata": {},
   "source": [
    "# Working with Dates and Times"
   ]
  },
  {
   "cell_type": "code",
   "execution_count": 40,
   "metadata": {
    "scrolled": true
   },
   "outputs": [],
   "source": [
    "import pandas as pd\n",
    "import datetime as dt"
   ]
  },
  {
   "cell_type": "markdown",
   "metadata": {},
   "source": [
    "## Review of Python's datetime Module"
   ]
  },
  {
   "cell_type": "code",
   "execution_count": 4,
   "metadata": {},
   "outputs": [],
   "source": [
    "someday =dt.date(2025, 12, 15)"
   ]
  },
  {
   "cell_type": "code",
   "execution_count": 5,
   "metadata": {},
   "outputs": [
    {
     "data": {
      "text/plain": [
       "2025"
      ]
     },
     "execution_count": 5,
     "metadata": {},
     "output_type": "execute_result"
    }
   ],
   "source": [
    "someday.year"
   ]
  },
  {
   "cell_type": "code",
   "execution_count": 6,
   "metadata": {},
   "outputs": [
    {
     "data": {
      "text/plain": [
       "datetime.datetime(2025, 12, 15, 0, 0)"
      ]
     },
     "execution_count": 6,
     "metadata": {},
     "output_type": "execute_result"
    }
   ],
   "source": [
    "dt.datetime(2025,12,15)"
   ]
  },
  {
   "cell_type": "code",
   "execution_count": null,
   "metadata": {},
   "outputs": [],
   "source": []
  },
  {
   "cell_type": "markdown",
   "metadata": {},
   "source": [
    "## The Timestamp and DatetimeIndex Objects"
   ]
  },
  {
   "cell_type": "code",
   "execution_count": 17,
   "metadata": {
    "scrolled": true
   },
   "outputs": [
    {
     "data": {
      "text/plain": [
       "pandas._libs.tslibs.timestamps.Timestamp"
      ]
     },
     "execution_count": 17,
     "metadata": {},
     "output_type": "execute_result"
    }
   ],
   "source": [
    "pd.Timestamp(2027, 3, 12)\n",
    "pd.Timestamp(2027, 3, 12, 18, 23, 49)\n",
    "pd.Timestamp(dt.datetime(2028, 10,23))\n",
    "pd.Timestamp(\"2025-01-01\")\n",
    "pd.Timestamp(\"2025/01/01\")\n",
    "pd.Timestamp(\"2021-03-08 08:35:15\")\n",
    "\n",
    "pd.Series([pd.Timestamp(\"2021-03-08 08:35:15\")]).iloc[0] \n",
    "\n",
    "pd.DatetimeIndex([\"2025-01-01\", \"2025-02-01\", \"2025-03-01\"])\n",
    "index= pd.DatetimeIndex([\n",
    "    dt.date(2026, 1, 10),\n",
    "    dt.date(2026, 2,20)\n",
    "])\n",
    "index[0]\n",
    "type(index[0])"
   ]
  },
  {
   "cell_type": "code",
   "execution_count": null,
   "metadata": {},
   "outputs": [],
   "source": []
  },
  {
   "cell_type": "code",
   "execution_count": null,
   "metadata": {},
   "outputs": [],
   "source": []
  },
  {
   "cell_type": "code",
   "execution_count": null,
   "metadata": {},
   "outputs": [],
   "source": []
  },
  {
   "cell_type": "markdown",
   "metadata": {},
   "source": [
    "## Create Range of Dates with pd.date_range Function"
   ]
  },
  {
   "cell_type": "code",
   "execution_count": 29,
   "metadata": {},
   "outputs": [
    {
     "data": {
      "text/plain": [
       "DatetimeIndex(['2025-12-31', '2026-12-31', '2027-12-31', '2028-12-31',\n",
       "               '2029-12-31', '2030-12-31', '2031-12-31', '2032-12-31',\n",
       "               '2033-12-31', '2034-12-31', '2035-12-31', '2036-12-31',\n",
       "               '2037-12-31', '2038-12-31', '2039-12-31', '2040-12-31',\n",
       "               '2041-12-31', '2042-12-31', '2043-12-31', '2044-12-31',\n",
       "               '2045-12-31', '2046-12-31', '2047-12-31', '2048-12-31',\n",
       "               '2049-12-31'],\n",
       "              dtype='datetime64[ns]', freq='A-DEC')"
      ]
     },
     "execution_count": 29,
     "metadata": {},
     "output_type": "execute_result"
    }
   ],
   "source": [
    "pd.date_range(start= \"2025-01-01\", end= \"2025-01-07\")\n",
    "pd.date_range(start=\"2025-01-01\", end=\"2025-01-07\", freq=\"D\")\n",
    "pd.date_range(start=\"2025-01-01\", end=\"2025-01-07\", freq=\"2D\")\n",
    "pd.date_range(start=\"2025-01-01\", end=\"2025-01-07\", freq=\"B\") #business days - Monday- Friday\n",
    "pd.date_range(start=\"2025-01-01\", end=\"2025-01-07\", freq=\"W\")\n",
    "pd.date_range(start=\"2025-01-01\", end=\"2025-01-07\", freq=\"W-FRI\")\n",
    "pd.date_range(start=\"2025-01-01\", end=\"2025-01-07\", freq=\"W-THU\")\n",
    "\n",
    "pd.date_range(start=\"2025-01-01\", end=\"2025-01-07\", freq=\"H\")\n",
    "pd.date_range(start=\"2025-01-01\", end=\"2025-01-07\", freq=\"6H\")\n",
    "\n",
    "pd.date_range(start=\"2025-01-01\", end=\"2025-12-07\", freq=\"M\")\n",
    "pd.date_range(start=\"2025-01-01\", end=\"2025-12-07\", freq=\"MS\")\n",
    "\n",
    "pd.date_range(start=\"2025-01-01\", end=\"2050-12-07\", freq=\"A\")"
   ]
  },
  {
   "cell_type": "code",
   "execution_count": 30,
   "metadata": {},
   "outputs": [
    {
     "data": {
      "text/plain": [
       "DatetimeIndex(['2013-10-12', '2013-10-13', '2013-10-14', '2013-10-15',\n",
       "               '2013-10-16', '2013-10-17', '2013-10-18', '2013-10-19',\n",
       "               '2013-10-20', '2013-10-21', '2013-10-22', '2013-10-23',\n",
       "               '2013-10-24', '2013-10-25', '2013-10-26', '2013-10-27',\n",
       "               '2013-10-28', '2013-10-29', '2013-10-30', '2013-10-31'],\n",
       "              dtype='datetime64[ns]', freq='D')"
      ]
     },
     "execution_count": 30,
     "metadata": {},
     "output_type": "execute_result"
    }
   ],
   "source": [
    "pd.date_range(end=\"2013-10-31\", freq=\"D\", periods= 20)"
   ]
  },
  {
   "cell_type": "code",
   "execution_count": null,
   "metadata": {},
   "outputs": [],
   "source": []
  },
  {
   "cell_type": "code",
   "execution_count": null,
   "metadata": {},
   "outputs": [],
   "source": []
  },
  {
   "cell_type": "markdown",
   "metadata": {},
   "source": [
    "## The dt Attribute\n"
   ]
  },
  {
   "cell_type": "code",
   "execution_count": 32,
   "metadata": {},
   "outputs": [
    {
     "data": {
      "text/plain": [
       "0   2000-01-01 00:00:00\n",
       "1   2000-01-25 03:00:00\n",
       "2   2000-02-18 06:00:00\n",
       "3   2000-03-13 09:00:00\n",
       "4   2000-04-06 12:00:00\n",
       "dtype: datetime64[ns]"
      ]
     },
     "execution_count": 32,
     "metadata": {},
     "output_type": "execute_result"
    }
   ],
   "source": [
    "bunch_of_dates =pd.Series(pd.date_range(start=\"2000-01-01\", end= \"2020-12-31\", freq=\"24D 3H\"))\n",
    "bunch_of_dates.head()"
   ]
  },
  {
   "cell_type": "code",
   "execution_count": 38,
   "metadata": {},
   "outputs": [
    {
     "data": {
      "text/plain": [
       "0       True\n",
       "1      False\n",
       "2      False\n",
       "3      False\n",
       "4      False\n",
       "       ...  \n",
       "313    False\n",
       "314    False\n",
       "315    False\n",
       "316    False\n",
       "317    False\n",
       "Length: 318, dtype: bool"
      ]
     },
     "execution_count": 38,
     "metadata": {},
     "output_type": "execute_result"
    }
   ],
   "source": [
    "bunch_of_dates.dt.day\n",
    "bunch_of_dates.dt.month\n",
    "bunch_of_dates.dt.year\n",
    "bunch_of_dates.dt.hour\n",
    "\n",
    "bunch_of_dates.dt.is_month_end\n",
    "bunch_of_dates.dt.is_month_start"
   ]
  },
  {
   "cell_type": "code",
   "execution_count": null,
   "metadata": {},
   "outputs": [],
   "source": []
  },
  {
   "cell_type": "code",
   "execution_count": null,
   "metadata": {},
   "outputs": [],
   "source": []
  },
  {
   "cell_type": "markdown",
   "metadata": {},
   "source": [
    "## Selecting Rows from a DataFrame with a DateTimeIndex"
   ]
  },
  {
   "cell_type": "code",
   "execution_count": 49,
   "metadata": {},
   "outputs": [
    {
     "data": {
      "text/html": [
       "<div>\n",
       "<style scoped>\n",
       "    .dataframe tbody tr th:only-of-type {\n",
       "        vertical-align: middle;\n",
       "    }\n",
       "\n",
       "    .dataframe tbody tr th {\n",
       "        vertical-align: top;\n",
       "    }\n",
       "\n",
       "    .dataframe thead th {\n",
       "        text-align: right;\n",
       "    }\n",
       "</style>\n",
       "<table border=\"1\" class=\"dataframe\">\n",
       "  <thead>\n",
       "    <tr style=\"text-align: right;\">\n",
       "      <th></th>\n",
       "      <th>Open</th>\n",
       "      <th>High</th>\n",
       "      <th>Low</th>\n",
       "      <th>Close</th>\n",
       "      <th>Volume</th>\n",
       "    </tr>\n",
       "    <tr>\n",
       "      <th>Date</th>\n",
       "      <th></th>\n",
       "      <th></th>\n",
       "      <th></th>\n",
       "      <th></th>\n",
       "      <th></th>\n",
       "    </tr>\n",
       "  </thead>\n",
       "  <tbody>\n",
       "    <tr>\n",
       "      <th>1962-01-02</th>\n",
       "      <td>5.04610</td>\n",
       "      <td>5.04610</td>\n",
       "      <td>4.98716</td>\n",
       "      <td>4.98716</td>\n",
       "      <td>593562.955237</td>\n",
       "    </tr>\n",
       "    <tr>\n",
       "      <th>1962-01-03</th>\n",
       "      <td>4.98716</td>\n",
       "      <td>5.03292</td>\n",
       "      <td>4.98716</td>\n",
       "      <td>5.03292</td>\n",
       "      <td>445175.034277</td>\n",
       "    </tr>\n",
       "    <tr>\n",
       "      <th>1962-01-04</th>\n",
       "      <td>5.03292</td>\n",
       "      <td>5.03292</td>\n",
       "      <td>4.98052</td>\n",
       "      <td>4.98052</td>\n",
       "      <td>399513.586679</td>\n",
       "    </tr>\n",
       "    <tr>\n",
       "      <th>1962-01-05</th>\n",
       "      <td>4.97389</td>\n",
       "      <td>4.97389</td>\n",
       "      <td>4.87511</td>\n",
       "      <td>4.88166</td>\n",
       "      <td>559321.480565</td>\n",
       "    </tr>\n",
       "    <tr>\n",
       "      <th>1962-01-08</th>\n",
       "      <td>4.88166</td>\n",
       "      <td>4.88166</td>\n",
       "      <td>4.75059</td>\n",
       "      <td>4.78972</td>\n",
       "      <td>833273.771393</td>\n",
       "    </tr>\n",
       "  </tbody>\n",
       "</table>\n",
       "</div>"
      ],
      "text/plain": [
       "               Open     High      Low    Close         Volume\n",
       "Date                                                         \n",
       "1962-01-02  5.04610  5.04610  4.98716  4.98716  593562.955237\n",
       "1962-01-03  4.98716  5.03292  4.98716  5.03292  445175.034277\n",
       "1962-01-04  5.03292  5.03292  4.98052  4.98052  399513.586679\n",
       "1962-01-05  4.97389  4.97389  4.87511  4.88166  559321.480565\n",
       "1962-01-08  4.88166  4.88166  4.75059  4.78972  833273.771393"
      ]
     },
     "execution_count": 49,
     "metadata": {},
     "output_type": "execute_result"
    }
   ],
   "source": [
    "stocks= pd.read_csv(\"ibm.csv\",parse_dates=[\"Date\"], index_col=\"Date\").sort_index()\n",
    "stocks.head()"
   ]
  },
  {
   "cell_type": "code",
   "execution_count": 54,
   "metadata": {},
   "outputs": [
    {
     "data": {
      "text/html": [
       "<div>\n",
       "<style scoped>\n",
       "    .dataframe tbody tr th:only-of-type {\n",
       "        vertical-align: middle;\n",
       "    }\n",
       "\n",
       "    .dataframe tbody tr th {\n",
       "        vertical-align: top;\n",
       "    }\n",
       "\n",
       "    .dataframe thead th {\n",
       "        text-align: right;\n",
       "    }\n",
       "</style>\n",
       "<table border=\"1\" class=\"dataframe\">\n",
       "  <thead>\n",
       "    <tr style=\"text-align: right;\">\n",
       "      <th></th>\n",
       "      <th>Open</th>\n",
       "      <th>High</th>\n",
       "      <th>Low</th>\n",
       "      <th>Close</th>\n",
       "      <th>Volume</th>\n",
       "    </tr>\n",
       "    <tr>\n",
       "      <th>Date</th>\n",
       "      <th></th>\n",
       "      <th></th>\n",
       "      <th></th>\n",
       "      <th></th>\n",
       "      <th></th>\n",
       "    </tr>\n",
       "  </thead>\n",
       "  <tbody>\n",
       "    <tr>\n",
       "      <th>2014-03-04</th>\n",
       "      <td>128.870</td>\n",
       "      <td>129.827</td>\n",
       "      <td>128.802</td>\n",
       "      <td>129.329</td>\n",
       "      <td>6.825202e+06</td>\n",
       "    </tr>\n",
       "    <tr>\n",
       "      <th>2014-03-05</th>\n",
       "      <td>129.407</td>\n",
       "      <td>130.344</td>\n",
       "      <td>129.319</td>\n",
       "      <td>129.807</td>\n",
       "      <td>5.027617e+06</td>\n",
       "    </tr>\n",
       "    <tr>\n",
       "      <th>2014-03-06</th>\n",
       "      <td>129.963</td>\n",
       "      <td>130.676</td>\n",
       "      <td>129.631</td>\n",
       "      <td>130.159</td>\n",
       "      <td>5.503611e+06</td>\n",
       "    </tr>\n",
       "    <tr>\n",
       "      <th>2014-03-07</th>\n",
       "      <td>130.676</td>\n",
       "      <td>131.047</td>\n",
       "      <td>129.837</td>\n",
       "      <td>130.198</td>\n",
       "      <td>5.936539e+06</td>\n",
       "    </tr>\n",
       "    <tr>\n",
       "      <th>2014-03-10</th>\n",
       "      <td>130.090</td>\n",
       "      <td>130.666</td>\n",
       "      <td>128.890</td>\n",
       "      <td>129.309</td>\n",
       "      <td>6.623102e+06</td>\n",
       "    </tr>\n",
       "    <tr>\n",
       "      <th>...</th>\n",
       "      <td>...</td>\n",
       "      <td>...</td>\n",
       "      <td>...</td>\n",
       "      <td>...</td>\n",
       "      <td>...</td>\n",
       "    </tr>\n",
       "    <tr>\n",
       "      <th>2014-12-24</th>\n",
       "      <td>115.119</td>\n",
       "      <td>115.188</td>\n",
       "      <td>114.183</td>\n",
       "      <td>114.359</td>\n",
       "      <td>2.646416e+06</td>\n",
       "    </tr>\n",
       "    <tr>\n",
       "      <th>2014-12-26</th>\n",
       "      <td>114.651</td>\n",
       "      <td>115.257</td>\n",
       "      <td>114.495</td>\n",
       "      <td>114.700</td>\n",
       "      <td>2.706324e+06</td>\n",
       "    </tr>\n",
       "    <tr>\n",
       "      <th>2014-12-29</th>\n",
       "      <td>114.485</td>\n",
       "      <td>114.700</td>\n",
       "      <td>112.661</td>\n",
       "      <td>113.412</td>\n",
       "      <td>4.715249e+06</td>\n",
       "    </tr>\n",
       "    <tr>\n",
       "      <th>2014-12-30</th>\n",
       "      <td>113.090</td>\n",
       "      <td>113.656</td>\n",
       "      <td>112.934</td>\n",
       "      <td>113.109</td>\n",
       "      <td>4.004903e+06</td>\n",
       "    </tr>\n",
       "    <tr>\n",
       "      <th>2014-12-31</th>\n",
       "      <td>113.324</td>\n",
       "      <td>114.105</td>\n",
       "      <td>113.304</td>\n",
       "      <td>113.354</td>\n",
       "      <td>5.677519e+06</td>\n",
       "    </tr>\n",
       "  </tbody>\n",
       "</table>\n",
       "<p>211 rows × 5 columns</p>\n",
       "</div>"
      ],
      "text/plain": [
       "               Open     High      Low    Close        Volume\n",
       "Date                                                        \n",
       "2014-03-04  128.870  129.827  128.802  129.329  6.825202e+06\n",
       "2014-03-05  129.407  130.344  129.319  129.807  5.027617e+06\n",
       "2014-03-06  129.963  130.676  129.631  130.159  5.503611e+06\n",
       "2014-03-07  130.676  131.047  129.837  130.198  5.936539e+06\n",
       "2014-03-10  130.090  130.666  128.890  129.309  6.623102e+06\n",
       "...             ...      ...      ...      ...           ...\n",
       "2014-12-24  115.119  115.188  114.183  114.359  2.646416e+06\n",
       "2014-12-26  114.651  115.257  114.495  114.700  2.706324e+06\n",
       "2014-12-29  114.485  114.700  112.661  113.412  4.715249e+06\n",
       "2014-12-30  113.090  113.656  112.934  113.109  4.004903e+06\n",
       "2014-12-31  113.324  114.105  113.304  113.354  5.677519e+06\n",
       "\n",
       "[211 rows x 5 columns]"
      ]
     },
     "execution_count": 54,
     "metadata": {},
     "output_type": "execute_result"
    }
   ],
   "source": [
    "stocks.iloc[300]\n",
    "stocks.loc[\"2014-03-04\"]\n",
    "stocks.loc[pd.Timestamp(2014,3,4)]\n",
    "stocks.loc[\"2014-03-04\": \"2024-12-31\"]\n",
    "stocks.truncate(\"2014-03-04\",\"2014-12-31\")"
   ]
  },
  {
   "cell_type": "code",
   "execution_count": null,
   "metadata": {},
   "outputs": [],
   "source": []
  },
  {
   "cell_type": "code",
   "execution_count": null,
   "metadata": {},
   "outputs": [],
   "source": []
  },
  {
   "cell_type": "markdown",
   "metadata": {},
   "source": [
    "## The DateOffset Object"
   ]
  },
  {
   "cell_type": "code",
   "execution_count": 55,
   "metadata": {},
   "outputs": [
    {
     "data": {
      "text/html": [
       "<div>\n",
       "<style scoped>\n",
       "    .dataframe tbody tr th:only-of-type {\n",
       "        vertical-align: middle;\n",
       "    }\n",
       "\n",
       "    .dataframe tbody tr th {\n",
       "        vertical-align: top;\n",
       "    }\n",
       "\n",
       "    .dataframe thead th {\n",
       "        text-align: right;\n",
       "    }\n",
       "</style>\n",
       "<table border=\"1\" class=\"dataframe\">\n",
       "  <thead>\n",
       "    <tr style=\"text-align: right;\">\n",
       "      <th></th>\n",
       "      <th>Open</th>\n",
       "      <th>High</th>\n",
       "      <th>Low</th>\n",
       "      <th>Close</th>\n",
       "      <th>Volume</th>\n",
       "    </tr>\n",
       "    <tr>\n",
       "      <th>Date</th>\n",
       "      <th></th>\n",
       "      <th></th>\n",
       "      <th></th>\n",
       "      <th></th>\n",
       "      <th></th>\n",
       "    </tr>\n",
       "  </thead>\n",
       "  <tbody>\n",
       "    <tr>\n",
       "      <th>1962-01-02</th>\n",
       "      <td>5.04610</td>\n",
       "      <td>5.04610</td>\n",
       "      <td>4.98716</td>\n",
       "      <td>4.98716</td>\n",
       "      <td>593562.955237</td>\n",
       "    </tr>\n",
       "    <tr>\n",
       "      <th>1962-01-03</th>\n",
       "      <td>4.98716</td>\n",
       "      <td>5.03292</td>\n",
       "      <td>4.98716</td>\n",
       "      <td>5.03292</td>\n",
       "      <td>445175.034277</td>\n",
       "    </tr>\n",
       "    <tr>\n",
       "      <th>1962-01-04</th>\n",
       "      <td>5.03292</td>\n",
       "      <td>5.03292</td>\n",
       "      <td>4.98052</td>\n",
       "      <td>4.98052</td>\n",
       "      <td>399513.586679</td>\n",
       "    </tr>\n",
       "    <tr>\n",
       "      <th>1962-01-05</th>\n",
       "      <td>4.97389</td>\n",
       "      <td>4.97389</td>\n",
       "      <td>4.87511</td>\n",
       "      <td>4.88166</td>\n",
       "      <td>559321.480565</td>\n",
       "    </tr>\n",
       "    <tr>\n",
       "      <th>1962-01-08</th>\n",
       "      <td>4.88166</td>\n",
       "      <td>4.88166</td>\n",
       "      <td>4.75059</td>\n",
       "      <td>4.78972</td>\n",
       "      <td>833273.771393</td>\n",
       "    </tr>\n",
       "  </tbody>\n",
       "</table>\n",
       "</div>"
      ],
      "text/plain": [
       "               Open     High      Low    Close         Volume\n",
       "Date                                                         \n",
       "1962-01-02  5.04610  5.04610  4.98716  4.98716  593562.955237\n",
       "1962-01-03  4.98716  5.03292  4.98716  5.03292  445175.034277\n",
       "1962-01-04  5.03292  5.03292  4.98052  4.98052  399513.586679\n",
       "1962-01-05  4.97389  4.97389  4.87511  4.88166  559321.480565\n",
       "1962-01-08  4.88166  4.88166  4.75059  4.78972  833273.771393"
      ]
     },
     "execution_count": 55,
     "metadata": {},
     "output_type": "execute_result"
    }
   ],
   "source": [
    "stocks= pd.read_csv(\"ibm.csv\",parse_dates=[\"Date\"], index_col=\"Date\").sort_index()\n",
    "stocks.head()"
   ]
  },
  {
   "cell_type": "code",
   "execution_count": 63,
   "metadata": {},
   "outputs": [
    {
     "data": {
      "text/plain": [
       "DatetimeIndex(['1962-01-02 07:00:00', '1962-01-03 07:00:00',\n",
       "               '1962-01-04 07:00:00', '1962-01-05 07:00:00',\n",
       "               '1962-01-08 07:00:00', '1962-01-09 07:00:00',\n",
       "               '1962-01-10 07:00:00', '1962-01-11 07:00:00',\n",
       "               '1962-01-12 07:00:00', '1962-01-15 07:00:00',\n",
       "               ...\n",
       "               '2023-09-28 07:00:00', '2023-09-29 07:00:00',\n",
       "               '2023-10-02 07:00:00', '2023-10-03 07:00:00',\n",
       "               '2023-10-04 07:00:00', '2023-10-05 07:00:00',\n",
       "               '2023-10-06 07:00:00', '2023-10-09 07:00:00',\n",
       "               '2023-10-10 07:00:00', '2023-10-11 07:00:00'],\n",
       "              dtype='datetime64[ns]', name='Date', length=15546, freq=None)"
      ]
     },
     "execution_count": 63,
     "metadata": {},
     "output_type": "execute_result"
    }
   ],
   "source": [
    "stocks.index + pd.DateOffset(days=5)\n",
    "stocks.index - pd.DateOffset(days=5)\n",
    "stocks.index + pd.DateOffset(months=3)\n",
    "stocks.index - pd.DateOffset(years= 1)\n",
    "\n",
    "stocks.index + pd.DateOffset(hours=7)"
   ]
  },
  {
   "cell_type": "code",
   "execution_count": 68,
   "metadata": {},
   "outputs": [
    {
     "data": {
      "text/html": [
       "<div>\n",
       "<style scoped>\n",
       "    .dataframe tbody tr th:only-of-type {\n",
       "        vertical-align: middle;\n",
       "    }\n",
       "\n",
       "    .dataframe tbody tr th {\n",
       "        vertical-align: top;\n",
       "    }\n",
       "\n",
       "    .dataframe thead th {\n",
       "        text-align: right;\n",
       "    }\n",
       "</style>\n",
       "<table border=\"1\" class=\"dataframe\">\n",
       "  <thead>\n",
       "    <tr style=\"text-align: right;\">\n",
       "      <th></th>\n",
       "      <th>Open</th>\n",
       "      <th>High</th>\n",
       "      <th>Low</th>\n",
       "      <th>Close</th>\n",
       "      <th>Volume</th>\n",
       "    </tr>\n",
       "    <tr>\n",
       "      <th>Date</th>\n",
       "      <th></th>\n",
       "      <th></th>\n",
       "      <th></th>\n",
       "      <th></th>\n",
       "      <th></th>\n",
       "    </tr>\n",
       "  </thead>\n",
       "  <tbody>\n",
       "    <tr>\n",
       "      <th>1991-04-12</th>\n",
       "      <td>18.16780</td>\n",
       "      <td>18.16780</td>\n",
       "      <td>17.69540</td>\n",
       "      <td>17.75200</td>\n",
       "      <td>2.164536e+07</td>\n",
       "    </tr>\n",
       "    <tr>\n",
       "      <th>1993-04-12</th>\n",
       "      <td>8.30500</td>\n",
       "      <td>8.48788</td>\n",
       "      <td>8.28665</td>\n",
       "      <td>8.34598</td>\n",
       "      <td>8.518730e+06</td>\n",
       "    </tr>\n",
       "    <tr>\n",
       "      <th>1994-04-12</th>\n",
       "      <td>8.79793</td>\n",
       "      <td>8.81911</td>\n",
       "      <td>8.59455</td>\n",
       "      <td>8.65281</td>\n",
       "      <td>1.149508e+07</td>\n",
       "    </tr>\n",
       "    <tr>\n",
       "      <th>1995-04-12</th>\n",
       "      <td>14.16070</td>\n",
       "      <td>14.34310</td>\n",
       "      <td>14.09330</td>\n",
       "      <td>14.25620</td>\n",
       "      <td>1.158640e+07</td>\n",
       "    </tr>\n",
       "    <tr>\n",
       "      <th>1996-04-12</th>\n",
       "      <td>18.86360</td>\n",
       "      <td>18.92410</td>\n",
       "      <td>18.02330</td>\n",
       "      <td>18.25170</td>\n",
       "      <td>4.724783e+07</td>\n",
       "    </tr>\n",
       "    <tr>\n",
       "      <th>1999-04-12</th>\n",
       "      <td>60.07580</td>\n",
       "      <td>60.10990</td>\n",
       "      <td>59.27160</td>\n",
       "      <td>60.05430</td>\n",
       "      <td>1.366693e+07</td>\n",
       "    </tr>\n",
       "    <tr>\n",
       "      <th>2000-04-12</th>\n",
       "      <td>78.30890</td>\n",
       "      <td>78.30890</td>\n",
       "      <td>73.13650</td>\n",
       "      <td>74.49310</td>\n",
       "      <td>1.352295e+07</td>\n",
       "    </tr>\n",
       "    <tr>\n",
       "      <th>2001-04-12</th>\n",
       "      <td>63.33930</td>\n",
       "      <td>64.06240</td>\n",
       "      <td>62.51650</td>\n",
       "      <td>63.20750</td>\n",
       "      <td>1.429048e+07</td>\n",
       "    </tr>\n",
       "    <tr>\n",
       "      <th>2002-04-12</th>\n",
       "      <td>57.53060</td>\n",
       "      <td>57.79410</td>\n",
       "      <td>55.45480</td>\n",
       "      <td>56.24140</td>\n",
       "      <td>2.405615e+07</td>\n",
       "    </tr>\n",
       "    <tr>\n",
       "      <th>2004-04-12</th>\n",
       "      <td>61.43420</td>\n",
       "      <td>61.99840</td>\n",
       "      <td>61.36590</td>\n",
       "      <td>61.59330</td>\n",
       "      <td>4.736957e+06</td>\n",
       "    </tr>\n",
       "    <tr>\n",
       "      <th>2005-04-12</th>\n",
       "      <td>56.44050</td>\n",
       "      <td>56.66400</td>\n",
       "      <td>55.95930</td>\n",
       "      <td>56.34190</td>\n",
       "      <td>1.286059e+07</td>\n",
       "    </tr>\n",
       "    <tr>\n",
       "      <th>2006-04-12</th>\n",
       "      <td>53.28730</td>\n",
       "      <td>53.46300</td>\n",
       "      <td>52.97880</td>\n",
       "      <td>53.05790</td>\n",
       "      <td>5.943571e+06</td>\n",
       "    </tr>\n",
       "    <tr>\n",
       "      <th>2007-04-12</th>\n",
       "      <td>62.43660</td>\n",
       "      <td>62.95670</td>\n",
       "      <td>62.10960</td>\n",
       "      <td>62.86010</td>\n",
       "      <td>1.078356e+07</td>\n",
       "    </tr>\n",
       "    <tr>\n",
       "      <th>2010-04-12</th>\n",
       "      <td>84.48650</td>\n",
       "      <td>84.73830</td>\n",
       "      <td>84.26890</td>\n",
       "      <td>84.34410</td>\n",
       "      <td>6.076087e+06</td>\n",
       "    </tr>\n",
       "    <tr>\n",
       "      <th>2011-04-12</th>\n",
       "      <td>107.36100</td>\n",
       "      <td>107.59500</td>\n",
       "      <td>106.65800</td>\n",
       "      <td>107.28300</td>\n",
       "      <td>5.876340e+06</td>\n",
       "    </tr>\n",
       "    <tr>\n",
       "      <th>2012-04-12</th>\n",
       "      <td>135.49600</td>\n",
       "      <td>137.33200</td>\n",
       "      <td>135.37000</td>\n",
       "      <td>137.18500</td>\n",
       "      <td>4.384856e+06</td>\n",
       "    </tr>\n",
       "    <tr>\n",
       "      <th>2013-04-12</th>\n",
       "      <td>143.23600</td>\n",
       "      <td>143.71500</td>\n",
       "      <td>142.54300</td>\n",
       "      <td>143.64600</td>\n",
       "      <td>4.658051e+06</td>\n",
       "    </tr>\n",
       "    <tr>\n",
       "      <th>2016-04-12</th>\n",
       "      <td>110.27900</td>\n",
       "      <td>110.65000</td>\n",
       "      <td>109.53700</td>\n",
       "      <td>110.28900</td>\n",
       "      <td>4.874036e+06</td>\n",
       "    </tr>\n",
       "    <tr>\n",
       "      <th>2017-04-12</th>\n",
       "      <td>130.58800</td>\n",
       "      <td>130.71500</td>\n",
       "      <td>129.80700</td>\n",
       "      <td>130.29600</td>\n",
       "      <td>4.292101e+06</td>\n",
       "    </tr>\n",
       "    <tr>\n",
       "      <th>2018-04-12</th>\n",
       "      <td>124.55700</td>\n",
       "      <td>126.31400</td>\n",
       "      <td>124.48900</td>\n",
       "      <td>125.58200</td>\n",
       "      <td>7.097073e+06</td>\n",
       "    </tr>\n",
       "    <tr>\n",
       "      <th>2019-04-12</th>\n",
       "      <td>120.04800</td>\n",
       "      <td>120.18500</td>\n",
       "      <td>119.57000</td>\n",
       "      <td>120.10700</td>\n",
       "      <td>3.484076e+06</td>\n",
       "    </tr>\n",
       "    <tr>\n",
       "      <th>2021-04-12</th>\n",
       "      <td>124.11800</td>\n",
       "      <td>124.43900</td>\n",
       "      <td>123.03400</td>\n",
       "      <td>123.71800</td>\n",
       "      <td>4.083806e+06</td>\n",
       "    </tr>\n",
       "    <tr>\n",
       "      <th>2022-04-12</th>\n",
       "      <td>121.89300</td>\n",
       "      <td>122.78100</td>\n",
       "      <td>121.09200</td>\n",
       "      <td>121.47300</td>\n",
       "      <td>2.790840e+06</td>\n",
       "    </tr>\n",
       "    <tr>\n",
       "      <th>2023-04-12</th>\n",
       "      <td>130.40000</td>\n",
       "      <td>130.88570</td>\n",
       "      <td>128.17000</td>\n",
       "      <td>128.54000</td>\n",
       "      <td>3.957542e+06</td>\n",
       "    </tr>\n",
       "  </tbody>\n",
       "</table>\n",
       "</div>"
      ],
      "text/plain": [
       "                 Open       High        Low      Close        Volume\n",
       "Date                                                                \n",
       "1991-04-12   18.16780   18.16780   17.69540   17.75200  2.164536e+07\n",
       "1993-04-12    8.30500    8.48788    8.28665    8.34598  8.518730e+06\n",
       "1994-04-12    8.79793    8.81911    8.59455    8.65281  1.149508e+07\n",
       "1995-04-12   14.16070   14.34310   14.09330   14.25620  1.158640e+07\n",
       "1996-04-12   18.86360   18.92410   18.02330   18.25170  4.724783e+07\n",
       "1999-04-12   60.07580   60.10990   59.27160   60.05430  1.366693e+07\n",
       "2000-04-12   78.30890   78.30890   73.13650   74.49310  1.352295e+07\n",
       "2001-04-12   63.33930   64.06240   62.51650   63.20750  1.429048e+07\n",
       "2002-04-12   57.53060   57.79410   55.45480   56.24140  2.405615e+07\n",
       "2004-04-12   61.43420   61.99840   61.36590   61.59330  4.736957e+06\n",
       "2005-04-12   56.44050   56.66400   55.95930   56.34190  1.286059e+07\n",
       "2006-04-12   53.28730   53.46300   52.97880   53.05790  5.943571e+06\n",
       "2007-04-12   62.43660   62.95670   62.10960   62.86010  1.078356e+07\n",
       "2010-04-12   84.48650   84.73830   84.26890   84.34410  6.076087e+06\n",
       "2011-04-12  107.36100  107.59500  106.65800  107.28300  5.876340e+06\n",
       "2012-04-12  135.49600  137.33200  135.37000  137.18500  4.384856e+06\n",
       "2013-04-12  143.23600  143.71500  142.54300  143.64600  4.658051e+06\n",
       "2016-04-12  110.27900  110.65000  109.53700  110.28900  4.874036e+06\n",
       "2017-04-12  130.58800  130.71500  129.80700  130.29600  4.292101e+06\n",
       "2018-04-12  124.55700  126.31400  124.48900  125.58200  7.097073e+06\n",
       "2019-04-12  120.04800  120.18500  119.57000  120.10700  3.484076e+06\n",
       "2021-04-12  124.11800  124.43900  123.03400  123.71800  4.083806e+06\n",
       "2022-04-12  121.89300  122.78100  121.09200  121.47300  2.790840e+06\n",
       "2023-04-12  130.40000  130.88570  128.17000  128.54000  3.957542e+06"
      ]
     },
     "execution_count": 68,
     "metadata": {},
     "output_type": "execute_result"
    }
   ],
   "source": [
    "birthdays= pd.date_range(start=\"1991-04-12\",end= \"2023-04-12\",freq=pd.DateOffset(years=1))\n",
    "\n",
    "stocks[stocks.index.isin(birthdays)]"
   ]
  },
  {
   "cell_type": "code",
   "execution_count": null,
   "metadata": {},
   "outputs": [],
   "source": []
  },
  {
   "cell_type": "markdown",
   "metadata": {},
   "source": [
    "## Specialized Date Offsets"
   ]
  },
  {
   "cell_type": "code",
   "execution_count": 69,
   "metadata": {},
   "outputs": [
    {
     "data": {
      "text/html": [
       "<div>\n",
       "<style scoped>\n",
       "    .dataframe tbody tr th:only-of-type {\n",
       "        vertical-align: middle;\n",
       "    }\n",
       "\n",
       "    .dataframe tbody tr th {\n",
       "        vertical-align: top;\n",
       "    }\n",
       "\n",
       "    .dataframe thead th {\n",
       "        text-align: right;\n",
       "    }\n",
       "</style>\n",
       "<table border=\"1\" class=\"dataframe\">\n",
       "  <thead>\n",
       "    <tr style=\"text-align: right;\">\n",
       "      <th></th>\n",
       "      <th>Open</th>\n",
       "      <th>High</th>\n",
       "      <th>Low</th>\n",
       "      <th>Close</th>\n",
       "      <th>Volume</th>\n",
       "    </tr>\n",
       "    <tr>\n",
       "      <th>Date</th>\n",
       "      <th></th>\n",
       "      <th></th>\n",
       "      <th></th>\n",
       "      <th></th>\n",
       "      <th></th>\n",
       "    </tr>\n",
       "  </thead>\n",
       "  <tbody>\n",
       "    <tr>\n",
       "      <th>1962-01-02</th>\n",
       "      <td>5.04610</td>\n",
       "      <td>5.04610</td>\n",
       "      <td>4.98716</td>\n",
       "      <td>4.98716</td>\n",
       "      <td>593562.955237</td>\n",
       "    </tr>\n",
       "    <tr>\n",
       "      <th>1962-01-03</th>\n",
       "      <td>4.98716</td>\n",
       "      <td>5.03292</td>\n",
       "      <td>4.98716</td>\n",
       "      <td>5.03292</td>\n",
       "      <td>445175.034277</td>\n",
       "    </tr>\n",
       "    <tr>\n",
       "      <th>1962-01-04</th>\n",
       "      <td>5.03292</td>\n",
       "      <td>5.03292</td>\n",
       "      <td>4.98052</td>\n",
       "      <td>4.98052</td>\n",
       "      <td>399513.586679</td>\n",
       "    </tr>\n",
       "    <tr>\n",
       "      <th>1962-01-05</th>\n",
       "      <td>4.97389</td>\n",
       "      <td>4.97389</td>\n",
       "      <td>4.87511</td>\n",
       "      <td>4.88166</td>\n",
       "      <td>559321.480565</td>\n",
       "    </tr>\n",
       "    <tr>\n",
       "      <th>1962-01-08</th>\n",
       "      <td>4.88166</td>\n",
       "      <td>4.88166</td>\n",
       "      <td>4.75059</td>\n",
       "      <td>4.78972</td>\n",
       "      <td>833273.771393</td>\n",
       "    </tr>\n",
       "  </tbody>\n",
       "</table>\n",
       "</div>"
      ],
      "text/plain": [
       "               Open     High      Low    Close         Volume\n",
       "Date                                                         \n",
       "1962-01-02  5.04610  5.04610  4.98716  4.98716  593562.955237\n",
       "1962-01-03  4.98716  5.03292  4.98716  5.03292  445175.034277\n",
       "1962-01-04  5.03292  5.03292  4.98052  4.98052  399513.586679\n",
       "1962-01-05  4.97389  4.97389  4.87511  4.88166  559321.480565\n",
       "1962-01-08  4.88166  4.88166  4.75059  4.78972  833273.771393"
      ]
     },
     "execution_count": 69,
     "metadata": {},
     "output_type": "execute_result"
    }
   ],
   "source": [
    "stocks= pd.read_csv(\"ibm.csv\",parse_dates=[\"Date\"], index_col=\"Date\").sort_index()\n",
    "stocks.head()"
   ]
  },
  {
   "cell_type": "code",
   "execution_count": 71,
   "metadata": {},
   "outputs": [
    {
     "data": {
      "text/plain": [
       "DatetimeIndex(['1962-01-31', '1962-01-31', '1962-01-31', '1962-01-31',\n",
       "               '1962-01-31', '1962-01-31', '1962-01-31', '1962-01-31',\n",
       "               '1962-01-31', '1962-01-31',\n",
       "               ...\n",
       "               '2023-09-30', '2023-09-30', '2023-10-31', '2023-10-31',\n",
       "               '2023-10-31', '2023-10-31', '2023-10-31', '2023-10-31',\n",
       "               '2023-10-31', '2023-10-31'],\n",
       "              dtype='datetime64[ns]', name='Date', length=15546, freq=None)"
      ]
     },
     "execution_count": 71,
     "metadata": {},
     "output_type": "execute_result"
    }
   ],
   "source": [
    "stocks.index + pd.tseries.offsets.MonthEnd()"
   ]
  },
  {
   "cell_type": "code",
   "execution_count": null,
   "metadata": {},
   "outputs": [],
   "source": []
  },
  {
   "cell_type": "code",
   "execution_count": null,
   "metadata": {},
   "outputs": [],
   "source": []
  },
  {
   "cell_type": "markdown",
   "metadata": {},
   "source": [
    "## Timedeltas"
   ]
  },
  {
   "cell_type": "code",
   "execution_count": 72,
   "metadata": {},
   "outputs": [
    {
     "data": {
      "text/plain": [
       "Timedelta('10 days 17:04:49')"
      ]
     },
     "execution_count": 72,
     "metadata": {},
     "output_type": "execute_result"
    }
   ],
   "source": [
    "pd.Timestamp(\"2023-03-31 12:30:48\") - pd.Timestamp(\"2023-03-20 19:25:59\")"
   ]
  },
  {
   "cell_type": "code",
   "execution_count": 76,
   "metadata": {},
   "outputs": [
    {
     "data": {
      "text/html": [
       "<div>\n",
       "<style scoped>\n",
       "    .dataframe tbody tr th:only-of-type {\n",
       "        vertical-align: middle;\n",
       "    }\n",
       "\n",
       "    .dataframe tbody tr th {\n",
       "        vertical-align: top;\n",
       "    }\n",
       "\n",
       "    .dataframe thead th {\n",
       "        text-align: right;\n",
       "    }\n",
       "</style>\n",
       "<table border=\"1\" class=\"dataframe\">\n",
       "  <thead>\n",
       "    <tr style=\"text-align: right;\">\n",
       "      <th></th>\n",
       "      <th>order_date</th>\n",
       "      <th>delivery_date</th>\n",
       "    </tr>\n",
       "    <tr>\n",
       "      <th>ID</th>\n",
       "      <th></th>\n",
       "      <th></th>\n",
       "    </tr>\n",
       "  </thead>\n",
       "  <tbody>\n",
       "    <tr>\n",
       "      <th>1</th>\n",
       "      <td>1998-05-24</td>\n",
       "      <td>1999-02-05</td>\n",
       "    </tr>\n",
       "    <tr>\n",
       "      <th>2</th>\n",
       "      <td>1992-04-22</td>\n",
       "      <td>1998-03-06</td>\n",
       "    </tr>\n",
       "    <tr>\n",
       "      <th>4</th>\n",
       "      <td>1991-02-10</td>\n",
       "      <td>1992-08-26</td>\n",
       "    </tr>\n",
       "    <tr>\n",
       "      <th>5</th>\n",
       "      <td>1992-07-21</td>\n",
       "      <td>1997-11-20</td>\n",
       "    </tr>\n",
       "    <tr>\n",
       "      <th>7</th>\n",
       "      <td>1993-09-02</td>\n",
       "      <td>1998-06-10</td>\n",
       "    </tr>\n",
       "  </tbody>\n",
       "</table>\n",
       "</div>"
      ],
      "text/plain": [
       "   order_date delivery_date\n",
       "ID                         \n",
       "1  1998-05-24    1999-02-05\n",
       "2  1992-04-22    1998-03-06\n",
       "4  1991-02-10    1992-08-26\n",
       "5  1992-07-21    1997-11-20\n",
       "7  1993-09-02    1998-06-10"
      ]
     },
     "execution_count": 76,
     "metadata": {},
     "output_type": "execute_result"
    }
   ],
   "source": [
    "ecommerce = pd.read_csv(\"ecommerce.csv\",index_col=\"ID\", parse_dates=[\"order_date\", \"delivery_date\"], date_format=\"%m/%d/%y\")\n",
    "ecommerce.head()"
   ]
  },
  {
   "cell_type": "code",
   "execution_count": 80,
   "metadata": {},
   "outputs": [
    {
     "data": {
      "text/html": [
       "<div>\n",
       "<style scoped>\n",
       "    .dataframe tbody tr th:only-of-type {\n",
       "        vertical-align: middle;\n",
       "    }\n",
       "\n",
       "    .dataframe tbody tr th {\n",
       "        vertical-align: top;\n",
       "    }\n",
       "\n",
       "    .dataframe thead th {\n",
       "        text-align: right;\n",
       "    }\n",
       "</style>\n",
       "<table border=\"1\" class=\"dataframe\">\n",
       "  <thead>\n",
       "    <tr style=\"text-align: right;\">\n",
       "      <th></th>\n",
       "      <th>order_date</th>\n",
       "      <th>delivery_date</th>\n",
       "      <th>Delivery Time</th>\n",
       "    </tr>\n",
       "    <tr>\n",
       "      <th>ID</th>\n",
       "      <th></th>\n",
       "      <th></th>\n",
       "      <th></th>\n",
       "    </tr>\n",
       "  </thead>\n",
       "  <tbody>\n",
       "    <tr>\n",
       "      <th>1</th>\n",
       "      <td>1998-05-24</td>\n",
       "      <td>1999-02-05</td>\n",
       "      <td>257 days</td>\n",
       "    </tr>\n",
       "    <tr>\n",
       "      <th>2</th>\n",
       "      <td>1992-04-22</td>\n",
       "      <td>1998-03-06</td>\n",
       "      <td>2144 days</td>\n",
       "    </tr>\n",
       "    <tr>\n",
       "      <th>4</th>\n",
       "      <td>1991-02-10</td>\n",
       "      <td>1992-08-26</td>\n",
       "      <td>563 days</td>\n",
       "    </tr>\n",
       "    <tr>\n",
       "      <th>5</th>\n",
       "      <td>1992-07-21</td>\n",
       "      <td>1997-11-20</td>\n",
       "      <td>1948 days</td>\n",
       "    </tr>\n",
       "    <tr>\n",
       "      <th>7</th>\n",
       "      <td>1993-09-02</td>\n",
       "      <td>1998-06-10</td>\n",
       "      <td>1742 days</td>\n",
       "    </tr>\n",
       "  </tbody>\n",
       "</table>\n",
       "</div>"
      ],
      "text/plain": [
       "   order_date delivery_date Delivery Time\n",
       "ID                                       \n",
       "1  1998-05-24    1999-02-05      257 days\n",
       "2  1992-04-22    1998-03-06     2144 days\n",
       "4  1991-02-10    1992-08-26      563 days\n",
       "5  1992-07-21    1997-11-20     1948 days\n",
       "7  1993-09-02    1998-06-10     1742 days"
      ]
     },
     "execution_count": 80,
     "metadata": {},
     "output_type": "execute_result"
    }
   ],
   "source": [
    "ecommerce[\"Delivery Time\"] = ecommerce[\"delivery_date\"] - ecommerce[\"order_date\"]\n",
    "ecommerce.head()"
   ]
  },
  {
   "cell_type": "code",
   "execution_count": 84,
   "metadata": {},
   "outputs": [
    {
     "data": {
      "text/html": [
       "<div>\n",
       "<style scoped>\n",
       "    .dataframe tbody tr th:only-of-type {\n",
       "        vertical-align: middle;\n",
       "    }\n",
       "\n",
       "    .dataframe tbody tr th {\n",
       "        vertical-align: top;\n",
       "    }\n",
       "\n",
       "    .dataframe thead th {\n",
       "        text-align: right;\n",
       "    }\n",
       "</style>\n",
       "<table border=\"1\" class=\"dataframe\">\n",
       "  <thead>\n",
       "    <tr style=\"text-align: right;\">\n",
       "      <th></th>\n",
       "      <th>order_date</th>\n",
       "      <th>delivery_date</th>\n",
       "      <th>Delivery Time</th>\n",
       "      <th>If It Took</th>\n",
       "    </tr>\n",
       "    <tr>\n",
       "      <th>ID</th>\n",
       "      <th></th>\n",
       "      <th></th>\n",
       "      <th></th>\n",
       "      <th></th>\n",
       "    </tr>\n",
       "  </thead>\n",
       "  <tbody>\n",
       "    <tr>\n",
       "      <th>1</th>\n",
       "      <td>1998-05-24</td>\n",
       "      <td>1999-02-05</td>\n",
       "      <td>257 days</td>\n",
       "      <td>1999-10-20</td>\n",
       "    </tr>\n",
       "    <tr>\n",
       "      <th>2</th>\n",
       "      <td>1992-04-22</td>\n",
       "      <td>1998-03-06</td>\n",
       "      <td>2144 days</td>\n",
       "      <td>2004-01-18</td>\n",
       "    </tr>\n",
       "    <tr>\n",
       "      <th>4</th>\n",
       "      <td>1991-02-10</td>\n",
       "      <td>1992-08-26</td>\n",
       "      <td>563 days</td>\n",
       "      <td>1994-03-12</td>\n",
       "    </tr>\n",
       "    <tr>\n",
       "      <th>5</th>\n",
       "      <td>1992-07-21</td>\n",
       "      <td>1997-11-20</td>\n",
       "      <td>1948 days</td>\n",
       "      <td>2003-03-22</td>\n",
       "    </tr>\n",
       "    <tr>\n",
       "      <th>7</th>\n",
       "      <td>1993-09-02</td>\n",
       "      <td>1998-06-10</td>\n",
       "      <td>1742 days</td>\n",
       "      <td>2003-03-18</td>\n",
       "    </tr>\n",
       "  </tbody>\n",
       "</table>\n",
       "</div>"
      ],
      "text/plain": [
       "   order_date delivery_date Delivery Time If It Took\n",
       "ID                                                  \n",
       "1  1998-05-24    1999-02-05      257 days 1999-10-20\n",
       "2  1992-04-22    1998-03-06     2144 days 2004-01-18\n",
       "4  1991-02-10    1992-08-26      563 days 1994-03-12\n",
       "5  1992-07-21    1997-11-20     1948 days 2003-03-22\n",
       "7  1993-09-02    1998-06-10     1742 days 2003-03-18"
      ]
     },
     "execution_count": 84,
     "metadata": {},
     "output_type": "execute_result"
    }
   ],
   "source": [
    "ecommerce[\"If It Took\"] = ecommerce[\"delivery_date\"] + ecommerce[\"Delivery Time\"]\n",
    "ecommerce.head()"
   ]
  },
  {
   "cell_type": "code",
   "execution_count": null,
   "metadata": {},
   "outputs": [],
   "source": []
  },
  {
   "cell_type": "code",
   "execution_count": null,
   "metadata": {},
   "outputs": [],
   "source": []
  },
  {
   "cell_type": "code",
   "execution_count": null,
   "metadata": {},
   "outputs": [],
   "source": []
  }
 ],
 "metadata": {
  "anaconda-cloud": {},
  "kernelspec": {
   "display_name": "Python 3 (ipykernel)",
   "language": "python",
   "name": "python3"
  },
  "language_info": {
   "codemirror_mode": {
    "name": "ipython",
    "version": 3
   },
   "file_extension": ".py",
   "mimetype": "text/x-python",
   "name": "python",
   "nbconvert_exporter": "python",
   "pygments_lexer": "ipython3",
   "version": "3.12.7"
  }
 },
 "nbformat": 4,
 "nbformat_minor": 4
}
